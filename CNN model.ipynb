{
 "cells": [
  {
   "cell_type": "code",
   "execution_count": 35,
   "id": "6202c929-e133-42ff-bb9c-87103cd36dcc",
   "metadata": {},
   "outputs": [],
   "source": [
    "import numpy as np\n",
    "import matplotlib.pyplot as plt\n",
    "import random\n",
    "from tensorflow.keras.models import Sequential\n",
    "from tensorflow.keras.layers import Conv2D, MaxPooling2D, Dense, Flatten"
   ]
  },
  {
   "cell_type": "code",
   "execution_count": 22,
   "id": "c1f8562c-3609-43e5-b039-9a82b601256d",
   "metadata": {},
   "outputs": [],
   "source": [
    "X_train = np.loadtxt(\"input.csv\",delimiter = ',')\n",
    "Y_train = np.loadtxt(\"labels.csv\",delimiter = ',')\n",
    "X_test = np.loadtxt(\"input_test.csv\",delimiter = ',')\n",
    "Y_test = np.loadtxt(\"labels_test.csv\",delimiter = ',')"
   ]
  },
  {
   "cell_type": "code",
   "execution_count": 23,
   "id": "1d45ddb1-f90f-49c2-b327-e79f4f66e8af",
   "metadata": {},
   "outputs": [],
   "source": [
    "X_train = X_train.reshape(len(X_train),100,100,3)\n",
    "Y_train = Y_train.reshape(len(Y_train),1)\n",
    "\n",
    "X_test = X_test.reshape(len(X_test),100,100,3)\n",
    "Y_test = Y_test.reshape(len(Y_test),1)\n",
    "\n",
    "X_train = X_train/255.0\n",
    "X_test = X_test/255.0"
   ]
  },
  {
   "cell_type": "code",
   "execution_count": 24,
   "id": "5cbe6ed0-8d63-4cf1-8ad4-ef908b3ea95e",
   "metadata": {},
   "outputs": [
    {
     "name": "stdout",
     "output_type": "stream",
     "text": [
      "Shape of X_train:  (2000, 100, 100, 3)\n",
      "Shape of Y_train:  (2000, 1)\n",
      "Shape of X_test:  (400, 100, 100, 3)\n",
      "Shape of Y_test:  (400, 1)\n"
     ]
    }
   ],
   "source": [
    "print(\"Shape of X_train: \",X_train.shape)\n",
    "print(\"Shape of Y_train: \",Y_train.shape)\n",
    "print(\"Shape of X_test: \",X_test.shape)\n",
    "print(\"Shape of Y_test: \",Y_test.shape)"
   ]
  },
  {
   "cell_type": "code",
   "execution_count": 25,
   "id": "9ae78c8f-7ce6-4cdd-b0cd-650dd11ce73b",
   "metadata": {},
   "outputs": [
    {
     "data": {
      "text/plain": [
       "array([[[0.51372549, 0.50196078, 0.52941176],\n",
       "        [0.62745098, 0.61568627, 0.64313725],\n",
       "        [0.77647059, 0.75294118, 0.8       ],\n",
       "        ...,\n",
       "        [0.98039216, 0.97647059, 0.96862745],\n",
       "        [1.        , 1.        , 0.99215686],\n",
       "        [0.98039216, 0.97647059, 0.96078431]],\n",
       "\n",
       "       [[0.54901961, 0.5372549 , 0.56470588],\n",
       "        [0.49803922, 0.48627451, 0.51372549],\n",
       "        [0.47058824, 0.44705882, 0.48627451],\n",
       "        ...,\n",
       "        [0.98431373, 0.99215686, 0.98823529],\n",
       "        [0.99607843, 1.        , 0.99215686],\n",
       "        [0.99607843, 1.        , 0.98431373]],\n",
       "\n",
       "       [[0.8       , 0.79215686, 0.81176471],\n",
       "        [0.73333333, 0.7254902 , 0.74509804],\n",
       "        [0.57647059, 0.55686275, 0.58039216],\n",
       "        ...,\n",
       "        [0.97647059, 1.        , 1.        ],\n",
       "        [0.93333333, 0.96862745, 0.94901961],\n",
       "        [0.90980392, 0.94509804, 0.9254902 ]],\n",
       "\n",
       "       ...,\n",
       "\n",
       "       [[0.68235294, 0.71372549, 0.76470588],\n",
       "        [0.6745098 , 0.70588235, 0.75686275],\n",
       "        [0.69803922, 0.72941176, 0.77254902],\n",
       "        ...,\n",
       "        [0.34117647, 0.44705882, 0.38039216],\n",
       "        [0.29411765, 0.38823529, 0.3254902 ],\n",
       "        [0.31372549, 0.41176471, 0.3372549 ]],\n",
       "\n",
       "       [[0.65098039, 0.67843137, 0.74117647],\n",
       "        [0.64313725, 0.6745098 , 0.7254902 ],\n",
       "        [0.6745098 , 0.70588235, 0.75686275],\n",
       "        ...,\n",
       "        [0.30588235, 0.41568627, 0.32941176],\n",
       "        [0.28235294, 0.38039216, 0.29803922],\n",
       "        [0.30196078, 0.4       , 0.31764706]],\n",
       "\n",
       "       [[0.67843137, 0.70588235, 0.76862745],\n",
       "        [0.6745098 , 0.70196078, 0.76470588],\n",
       "        [0.68235294, 0.71372549, 0.76470588],\n",
       "        ...,\n",
       "        [0.24705882, 0.35686275, 0.27058824],\n",
       "        [0.24313725, 0.34117647, 0.25490196],\n",
       "        [0.27843137, 0.37647059, 0.29019608]]])"
      ]
     },
     "execution_count": 25,
     "metadata": {},
     "output_type": "execute_result"
    }
   ],
   "source": [
    "X_train[1,:]"
   ]
  },
  {
   "cell_type": "markdown",
   "id": "99b928cc-5260-4c08-954b-7034c89f5f84",
   "metadata": {},
   "source": [
    "# Model\n"
   ]
  },
  {
   "cell_type": "code",
   "execution_count": 26,
   "id": "f8256c58-a953-4da3-a95a-500afff8811b",
   "metadata": {},
   "outputs": [],
   "source": [
    "model = Sequential([\n",
    "    Conv2D(32,(3,3),activation = 'relu',input_shape=(100,100,3)),\n",
    "    MaxPooling2D((2,2)),\n",
    "    \n",
    "    Conv2D(32,(3,3),activation = 'relu'),\n",
    "    MaxPooling2D((2,2)),\n",
    "\n",
    "    Flatten(),\n",
    "    Dense(64,activation = 'relu'),\n",
    "    Dense(1, activation = 'sigmoid')\n",
    "    \n",
    "])"
   ]
  },
  {
   "cell_type": "code",
   "execution_count": 28,
   "id": "3ee9e0a0-d891-4c29-9cd8-664cc5dbb24f",
   "metadata": {},
   "outputs": [],
   "source": [
    "model.compile(loss = 'binary_crossentropy', optimizer = 'adam', metrics=['accuracy'])"
   ]
  },
  {
   "cell_type": "code",
   "execution_count": 29,
   "id": "c87b23e2-3a47-48c7-83c3-a94e87a345b8",
   "metadata": {},
   "outputs": [
    {
     "name": "stdout",
     "output_type": "stream",
     "text": [
      "Epoch 1/5\n",
      "32/32 [==============================] - 4s 88ms/step - loss: 0.7382 - accuracy: 0.5305\n",
      "Epoch 2/5\n",
      "32/32 [==============================] - 3s 93ms/step - loss: 0.6558 - accuracy: 0.6220\n",
      "Epoch 3/5\n",
      "32/32 [==============================] - 6s 185ms/step - loss: 0.5937 - accuracy: 0.6935\n",
      "Epoch 4/5\n",
      "32/32 [==============================] - 5s 166ms/step - loss: 0.5558 - accuracy: 0.7165\n",
      "Epoch 5/5\n",
      "32/32 [==============================] - 6s 183ms/step - loss: 0.4813 - accuracy: 0.7655\n"
     ]
    },
    {
     "data": {
      "text/plain": [
       "<keras.callbacks.History at 0x29fb57935b0>"
      ]
     },
     "execution_count": 29,
     "metadata": {},
     "output_type": "execute_result"
    }
   ],
   "source": [
    "model.fit(X_train,Y_train, epochs = 5 ,batch_size=64)"
   ]
  },
  {
   "cell_type": "code",
   "execution_count": 30,
   "id": "6866f5d4-4a2d-4659-960a-b8142e19c37e",
   "metadata": {},
   "outputs": [],
   "source": [
    "model.compile(loss = 'binary_crossentropy', optimizer = 'adam', metrics=['accuracy'])"
   ]
  },
  {
   "cell_type": "code",
   "execution_count": 31,
   "id": "0728344d-5f31-475d-bb41-b255a598ff87",
   "metadata": {},
   "outputs": [
    {
     "name": "stdout",
     "output_type": "stream",
     "text": [
      "Epoch 1/5\n",
      "32/32 [==============================] - 4s 89ms/step - loss: 0.5085 - accuracy: 0.7520\n",
      "Epoch 2/5\n",
      "32/32 [==============================] - 3s 81ms/step - loss: 0.4216 - accuracy: 0.8130\n",
      "Epoch 3/5\n",
      "32/32 [==============================] - 3s 85ms/step - loss: 0.3433 - accuracy: 0.8495\n",
      "Epoch 4/5\n",
      "32/32 [==============================] - 3s 85ms/step - loss: 0.3037 - accuracy: 0.8760\n",
      "Epoch 5/5\n",
      "32/32 [==============================] - 3s 85ms/step - loss: 0.2348 - accuracy: 0.9125\n"
     ]
    },
    {
     "data": {
      "text/plain": [
       "<keras.callbacks.History at 0x29fb5c022f0>"
      ]
     },
     "execution_count": 31,
     "metadata": {},
     "output_type": "execute_result"
    }
   ],
   "source": [
    "model.fit(X_train,Y_train, epochs = 5 ,batch_size=64)"
   ]
  },
  {
   "cell_type": "code",
   "execution_count": 32,
   "id": "30ee1766-790f-45b7-9bf0-c8ad001328f7",
   "metadata": {},
   "outputs": [
    {
     "name": "stdout",
     "output_type": "stream",
     "text": [
      "13/13 [==============================] - 1s 43ms/step - loss: 0.7866 - accuracy: 0.6875\n"
     ]
    },
    {
     "data": {
      "text/plain": [
       "[0.7865645885467529, 0.6875]"
      ]
     },
     "execution_count": 32,
     "metadata": {},
     "output_type": "execute_result"
    }
   ],
   "source": [
    "model.evaluate(X_test,Y_test)"
   ]
  },
  {
   "cell_type": "markdown",
   "id": "282ad6c9-b874-4064-91e5-0e71769bbffc",
   "metadata": {},
   "source": [
    "# MakingPredictions"
   ]
  },
  {
   "cell_type": "code",
   "execution_count": 41,
   "id": "9cb2a270-0137-4efa-b845-c891c24588ae",
   "metadata": {},
   "outputs": [
    {
     "data": {
      "image/png": "[encoded data removed]",
      "text/plain": [
       "<Figure size 640x480 with 1 Axes>"
      ]
     },
     "metadata": {},
     "output_type": "display_data"
    },
    {
     "name": "stdout",
     "output_type": "stream",
     "text": [
      "1/1 [==============================] - 0s 15ms/step\n",
      "[[0.03093588]]\n",
      "This is a dog\n"
     ]
    }
   ],
   "source": [
    "idx2 = random.randint(0,len(Y_test))\n",
    "plt.imshow(X_test[idx2, :])\n",
    "plt.show()\n",
    "\n",
    "y_pred = model.predict(X_test[idx2, :].reshape(1,100,100,3))\n",
    "print(y_pred)\n",
    "\n",
    "y_pred = y_pred>0.5\n",
    "\n",
    "if (y_pred == 0):\n",
    "    print(\"This is a dog\")\n",
    "else:\n",
    "    print(\"This is a cat\")"
   ]
  },
  {
   "cell_type": "code",
   "execution_count": null,
   "id": "63d772d5-d78a-4e1d-ad5a-526e9123b427",
   "metadata": {},
   "outputs": [],
   "source": []
  }
 ],
 "metadata": {
  "kernelspec": {
   "display_name": "Python 3 (ipykernel)",
   "language": "python",
   "name": "python3"
  },
  "language_info": {
   "codemirror_mode": {
    "name": "ipython",
    "version": 3
   },
   "file_extension": ".py",
   "mimetype": "text/x-python",
   "name": "python",
   "nbconvert_exporter": "python",
   "pygments_lexer": "ipython3",
   "version": "3.10.13"
  }
 },
 "nbformat": 4,
 "nbformat_minor": 5
}
